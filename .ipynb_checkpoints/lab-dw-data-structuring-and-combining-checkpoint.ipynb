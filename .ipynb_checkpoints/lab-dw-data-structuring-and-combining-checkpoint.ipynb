{
 "cells": [
  {
   "cell_type": "markdown",
   "id": "25d7736c-ba17-4aff-b6bb-66eba20fbf4e",
   "metadata": {
    "id": "25d7736c-ba17-4aff-b6bb-66eba20fbf4e"
   },
   "source": [
    "# Lab | Data Structuring and Combining Data"
   ]
  },
  {
   "cell_type": "markdown",
   "id": "a2cdfc70-44c8-478c-81e7-2bc43fdf4986",
   "metadata": {
    "id": "a2cdfc70-44c8-478c-81e7-2bc43fdf4986"
   },
   "source": [
    "## Challenge 1: Combining & Cleaning Data\n",
    "\n",
    "In this challenge, we will be working with the customer data from an insurance company, as we did in the two previous labs. The data can be found here:\n",
    "- https://raw.githubusercontent.com/data-bootcamp-v4/data/main/file1.csv\n",
    "\n",
    "But this time, we got new data, which can be found in the following 2 CSV files located at the links below.\n",
    "\n",
    "- https://raw.githubusercontent.com/data-bootcamp-v4/data/main/file2.csv\n",
    "- https://raw.githubusercontent.com/data-bootcamp-v4/data/main/file3.csv\n",
    "\n",
    "Note that you'll need to clean and format the new data.\n",
    "\n",
    "Observation:\n",
    "- One option is to first combine the three datasets and then apply the cleaning function to the new combined dataset\n",
    "- Another option would be to read the clean file you saved in the previous lab, and just clean the two new files and concatenate the three clean datasets"
   ]
  },
  {
   "cell_type": "code",
   "execution_count": null,
   "id": "492d06e3-92c7-4105-ac72-536db98d3244",
   "metadata": {
    "id": "492d06e3-92c7-4105-ac72-536db98d3244"
   },
   "outputs": [],
   "source": [
    "# Your code goes here"
   ]
  },
  {
   "cell_type": "code",
   "execution_count": 2,
   "id": "545ceed5",
   "metadata": {},
   "outputs": [],
   "source": [
    "import pandas as pd"
   ]
  },
  {
   "cell_type": "code",
   "execution_count": 3,
   "id": "4f3a1718",
   "metadata": {},
   "outputs": [],
   "source": [
    "url1 = \"https://raw.githubusercontent.com/data-bootcamp-v4/data/main/file1.csv\"\n",
    "url2 = \"https://raw.githubusercontent.com/data-bootcamp-v4/data/main/file2.csv\"\n",
    "url3 = \"https://raw.githubusercontent.com/data-bootcamp-v4/data/main/file3.csv\"\n",
    "\n",
    "df_1 = pd.read_csv(url1)\n",
    "df_2 = pd.read_csv(url2)\n",
    "df_3 = pd.read_csv(url3)"
   ]
  },
  {
   "cell_type": "code",
   "execution_count": null,
   "id": "b57e02f0",
   "metadata": {
    "scrolled": false
   },
   "outputs": [],
   "source": [
    "df_1.head(1)"
   ]
  },
  {
   "cell_type": "code",
   "execution_count": null,
   "id": "912d0ef8",
   "metadata": {},
   "outputs": [],
   "source": [
    "df_2.head(1)"
   ]
  },
  {
   "cell_type": "code",
   "execution_count": null,
   "id": "da94a6d8",
   "metadata": {},
   "outputs": [],
   "source": [
    "df_1.head(3)"
   ]
  },
  {
   "cell_type": "code",
   "execution_count": 4,
   "id": "2177c4d0",
   "metadata": {},
   "outputs": [],
   "source": [
    "df_1.columns = [column.lower().replace(\" \",\"_\") for column in df_1.columns]"
   ]
  },
  {
   "cell_type": "code",
   "execution_count": 5,
   "id": "1e5012de",
   "metadata": {},
   "outputs": [],
   "source": [
    "df_2.columns = [column.lower().replace(\" \",\"_\") for column in df_2.columns]"
   ]
  },
  {
   "cell_type": "code",
   "execution_count": 6,
   "id": "4d85aef7",
   "metadata": {},
   "outputs": [],
   "source": [
    "df_3.columns = [column.lower().replace(\" \",\"_\") for column in df_3.columns]"
   ]
  },
  {
   "cell_type": "code",
   "execution_count": null,
   "id": "d150b971",
   "metadata": {
    "scrolled": true
   },
   "outputs": [],
   "source": [
    "df_1.columns"
   ]
  },
  {
   "cell_type": "code",
   "execution_count": null,
   "id": "35ed95aa",
   "metadata": {
    "scrolled": true
   },
   "outputs": [],
   "source": [
    "df_2.columns"
   ]
  },
  {
   "cell_type": "code",
   "execution_count": null,
   "id": "cf143fac",
   "metadata": {},
   "outputs": [],
   "source": [
    "df_3.columns"
   ]
  },
  {
   "cell_type": "code",
   "execution_count": 9,
   "id": "06369164",
   "metadata": {},
   "outputs": [],
   "source": [
    "df_1.rename(columns= {'st': 'state'}, inplace=True)\n",
    "\n",
    "df_2.rename(columns= {'st': 'state'}, inplace=True)"
   ]
  },
  {
   "cell_type": "code",
   "execution_count": 10,
   "id": "4b9f729c",
   "metadata": {},
   "outputs": [],
   "source": [
    "df_concat = pd.concat([df_1, df_2, df_3], axis=0)"
   ]
  },
  {
   "cell_type": "code",
   "execution_count": null,
   "id": "e88d8497",
   "metadata": {
    "scrolled": true
   },
   "outputs": [],
   "source": [
    "df_concat.head(1)"
   ]
  },
  {
   "cell_type": "code",
   "execution_count": null,
   "id": "b16088ae",
   "metadata": {},
   "outputs": [],
   "source": [
    "df_1.shape"
   ]
  },
  {
   "cell_type": "code",
   "execution_count": null,
   "id": "805648dc",
   "metadata": {},
   "outputs": [],
   "source": [
    "df_2.shape"
   ]
  },
  {
   "cell_type": "code",
   "execution_count": null,
   "id": "e043989f",
   "metadata": {},
   "outputs": [],
   "source": [
    "df_3.shape"
   ]
  },
  {
   "cell_type": "code",
   "execution_count": null,
   "id": "6d647447",
   "metadata": {},
   "outputs": [],
   "source": [
    "df_concat.shape"
   ]
  },
  {
   "cell_type": "code",
   "execution_count": 11,
   "id": "6deceb7b",
   "metadata": {},
   "outputs": [],
   "source": [
    "df_concat.dropna(how='all',inplace = True )#eliminamos rows con solo CERO"
   ]
  },
  {
   "cell_type": "code",
   "execution_count": 12,
   "id": "acd87a27",
   "metadata": {},
   "outputs": [
    {
     "data": {
      "text/plain": [
       "(9137, 11)"
      ]
     },
     "execution_count": 12,
     "metadata": {},
     "output_type": "execute_result"
    }
   ],
   "source": [
    "df_concat.shape #df_concat ahora sin filas nulas -en ceros-"
   ]
  },
  {
   "cell_type": "code",
   "execution_count": 13,
   "id": "13349b6a",
   "metadata": {},
   "outputs": [],
   "source": [
    "gender_mapping = {\"F\": \"F\", \"M\":\"M\", \"Male\": \"M\", 'female': \"F\" , \"Femal\": \"F\"}\n",
    "df_concat[\"gender\"] = df_concat['gender'].map(gender_mapping)"
   ]
  },
  {
   "cell_type": "code",
   "execution_count": 14,
   "id": "39a5f6b2",
   "metadata": {},
   "outputs": [],
   "source": [
    "def replace_in_df(x):\n",
    "    if x == \"WA\":\n",
    "        x = \"Washington\"\n",
    "    elif x == \"AZ\":\n",
    "        x = \"Arizona\"\n",
    "    elif x == \"Cali\":\n",
    "        x = \"California\"  \n",
    "    elif x == \"Bachelors\":\n",
    "        x = \"Bachelor\"\n",
    "    elif x == \"Sports Car\" or x == \"Luxury SUV\" or x == \"Luxury Car\":\n",
    "        x = \"Luxury\"\n",
    "    \n",
    "    return (x)"
   ]
  },
  {
   "cell_type": "code",
   "execution_count": 15,
   "id": "e57e1587",
   "metadata": {
    "scrolled": true
   },
   "outputs": [
    {
     "data": {
      "text/plain": [
       "array([0, 2, 3, 1, 5, 4])"
      ]
     },
     "execution_count": 15,
     "metadata": {},
     "output_type": "execute_result"
    }
   ],
   "source": [
    "df_3[\"number_of_open_complaints\"].unique()"
   ]
  },
  {
   "cell_type": "code",
   "execution_count": null,
   "id": "7c39647b",
   "metadata": {},
   "outputs": [],
   "source": [
    "df_3[\"number_of_open_complaints\"].info()"
   ]
  },
  {
   "cell_type": "code",
   "execution_count": 16,
   "id": "a4715e72",
   "metadata": {},
   "outputs": [
    {
     "name": "stderr",
     "output_type": "stream",
     "text": [
      "/var/folders/v4/fgnr7b6s2fdbdy6vyj585tz40000gn/T/ipykernel_15327/2114790407.py:1: FutureWarning: DataFrame.applymap has been deprecated. Use DataFrame.map instead.\n",
      "  df_concat = df_concat.applymap(replace_in_df)\n"
     ]
    }
   ],
   "source": [
    "df_concat = df_concat.applymap(replace_in_df)"
   ]
  },
  {
   "cell_type": "code",
   "execution_count": 17,
   "id": "b381e7da",
   "metadata": {},
   "outputs": [],
   "source": [
    "complaints_mapping = {0:0,1:1,2:2,3:3,4:4,5:5,\"1/0/00\": 0 , \"1/2/00\": 2, \"1/1/00\": 1 , '1/3/00': 3 , \"1/5/00\": 5 , '1/4/00': 4}\n",
    "df_concat[\"number_of_open_complaints\"] = df_concat['number_of_open_complaints'].map(complaints_mapping)"
   ]
  },
  {
   "cell_type": "code",
   "execution_count": null,
   "id": "6f7dce4a",
   "metadata": {
    "scrolled": false
   },
   "outputs": [],
   "source": [
    "df_concat.nunique()"
   ]
  },
  {
   "cell_type": "code",
   "execution_count": null,
   "id": "540bea4e",
   "metadata": {},
   "outputs": [],
   "source": [
    "df_concat.number_of_open_complaints.unique()"
   ]
  },
  {
   "cell_type": "code",
   "execution_count": 18,
   "id": "a66c12b7",
   "metadata": {},
   "outputs": [],
   "source": [
    "def replace_percent(x):\n",
    "    if isinstance(x, str):\n",
    "        x = float(x.replace('%',''))\n",
    "    return x"
   ]
  },
  {
   "cell_type": "code",
   "execution_count": 19,
   "id": "205c8ee3",
   "metadata": {},
   "outputs": [],
   "source": [
    "df_concat[\"customer_lifetime_value\"] = df_concat[\"customer_lifetime_value\"].apply(replace_percent)"
   ]
  },
  {
   "cell_type": "code",
   "execution_count": null,
   "id": "284e5e98",
   "metadata": {},
   "outputs": [],
   "source": [
    "df_concat.customer_lifetime_value.info()"
   ]
  },
  {
   "cell_type": "code",
   "execution_count": null,
   "id": "1ef5d158",
   "metadata": {
    "scrolled": true
   },
   "outputs": [],
   "source": [
    "df_concat.isnull().sum()  #df_concat.isnull().sum()"
   ]
  },
  {
   "cell_type": "code",
   "execution_count": 20,
   "id": "bff5d82d",
   "metadata": {},
   "outputs": [],
   "source": [
    "df_concat.customer_lifetime_value.fillna(df_concat.customer_lifetime_value.median(),inplace = True)"
   ]
  },
  {
   "cell_type": "code",
   "execution_count": 21,
   "id": "2db4f6c0",
   "metadata": {},
   "outputs": [],
   "source": [
    "df_concat.gender.fillna(df_concat.gender.mode()[0],inplace = True)"
   ]
  },
  {
   "cell_type": "code",
   "execution_count": null,
   "id": "3acc31a8",
   "metadata": {},
   "outputs": [],
   "source": [
    "df_concat.isnull().sum()"
   ]
  },
  {
   "cell_type": "code",
   "execution_count": null,
   "id": "0bd58113",
   "metadata": {},
   "outputs": [],
   "source": [
    "df_concat.duplicated().sum()"
   ]
  },
  {
   "cell_type": "code",
   "execution_count": null,
   "id": "da9b8cff",
   "metadata": {},
   "outputs": [],
   "source": [
    "duplicates = df_concat.duplicated(keep = False)\n",
    "# Encuentra las filas duplicadas. 'keep=False' marcará todas las duplicadas como True."
   ]
  },
  {
   "cell_type": "code",
   "execution_count": null,
   "id": "3fb3c217",
   "metadata": {},
   "outputs": [],
   "source": [
    "# Filtra 'df' para mantener solo las filas duplicadas.\n",
    "df_concat_duplicadas = df_concat[duplicates]"
   ]
  },
  {
   "cell_type": "code",
   "execution_count": null,
   "id": "a0fb8cf8",
   "metadata": {},
   "outputs": [],
   "source": [
    "df_concat_duplicadas"
   ]
  },
  {
   "cell_type": "code",
   "execution_count": 22,
   "id": "80d77017",
   "metadata": {},
   "outputs": [],
   "source": [
    "df_concat.drop_duplicates(keep='last', inplace=True)"
   ]
  },
  {
   "cell_type": "code",
   "execution_count": 23,
   "id": "42c60215",
   "metadata": {},
   "outputs": [
    {
     "data": {
      "text/plain": [
       "0"
      ]
     },
     "execution_count": 23,
     "metadata": {},
     "output_type": "execute_result"
    }
   ],
   "source": [
    "df_concat.duplicated().sum()"
   ]
  },
  {
   "cell_type": "markdown",
   "id": "31b8a9e7-7db9-4604-991b-ef6771603e57",
   "metadata": {
    "id": "31b8a9e7-7db9-4604-991b-ef6771603e57"
   },
   "source": [
    "# Challenge 2: Structuring Data"
   ]
  },
  {
   "cell_type": "markdown",
   "id": "a877fd6d-7a0c-46d2-9657-f25036e4ca4b",
   "metadata": {
    "id": "a877fd6d-7a0c-46d2-9657-f25036e4ca4b"
   },
   "source": [
    "In this challenge, we will continue to work with customer data from an insurance company, but we will use a dataset with more columns, called marketing_customer_analysis.csv, which can be found at the following link:\n",
    "\n",
    "https://raw.githubusercontent.com/data-bootcamp-v4/data/main/marketing_customer_analysis_clean.csv\n",
    "\n",
    "This dataset contains information such as customer demographics, policy details, vehicle information, and the customer's response to the last marketing campaign. Our goal is to explore and analyze this data by performing data cleaning, formatting, and structuring."
   ]
  },
  {
   "cell_type": "code",
   "execution_count": null,
   "id": "aa10d9b0-1c27-4d3f-a8e4-db6ab73bfd26",
   "metadata": {
    "id": "aa10d9b0-1c27-4d3f-a8e4-db6ab73bfd26"
   },
   "outputs": [],
   "source": [
    "# Your code goes here"
   ]
  },
  {
   "cell_type": "code",
   "execution_count": 24,
   "id": "2b0d6249",
   "metadata": {},
   "outputs": [],
   "source": [
    "url4 = \"https://raw.githubusercontent.com/data-bootcamp-v4/data/main/marketing_customer_analysis_clean.csv\"\n",
    "\n",
    "df_m = pd.read_csv(url4)"
   ]
  },
  {
   "cell_type": "code",
   "execution_count": null,
   "id": "b7256c91",
   "metadata": {},
   "outputs": [],
   "source": [
    "df_m.columns = [column.lower().replace(\" \",\"_\") for column in df_m.columns]"
   ]
  },
  {
   "cell_type": "code",
   "execution_count": 25,
   "id": "31a72670",
   "metadata": {
    "scrolled": true
   },
   "outputs": [
    {
     "data": {
      "text/plain": [
       "unnamed:_0                       10910\n",
       "customer                          9134\n",
       "state                                5\n",
       "customer_lifetime_value           8041\n",
       "response                             2\n",
       "coverage                             3\n",
       "education                            5\n",
       "effective_to_date                   59\n",
       "employmentstatus                     5\n",
       "gender                               2\n",
       "income                            5694\n",
       "location_code                        3\n",
       "marital_status                       3\n",
       "monthly_premium_auto               202\n",
       "months_since_last_claim             37\n",
       "months_since_policy_inception      100\n",
       "number_of_open_complaints            7\n",
       "number_of_policies                   9\n",
       "policy_type                          3\n",
       "policy                               9\n",
       "renew_offer_type                     4\n",
       "sales_channel                        4\n",
       "total_claim_amount                5106\n",
       "vehicle_class                        6\n",
       "vehicle_size                         3\n",
       "vehicle_type                         1\n",
       "month                                2\n",
       "dtype: int64"
      ]
     },
     "execution_count": 25,
     "metadata": {},
     "output_type": "execute_result"
    }
   ],
   "source": [
    "df_m.nunique()"
   ]
  },
  {
   "cell_type": "code",
   "execution_count": 26,
   "id": "cbdcf05e",
   "metadata": {
    "scrolled": true
   },
   "outputs": [
    {
     "name": "stdout",
     "output_type": "stream",
     "text": [
      "<class 'pandas.core.frame.DataFrame'>\n",
      "RangeIndex: 10910 entries, 0 to 10909\n",
      "Data columns (total 27 columns):\n",
      " #   Column                         Non-Null Count  Dtype  \n",
      "---  ------                         --------------  -----  \n",
      " 0   unnamed:_0                     10910 non-null  int64  \n",
      " 1   customer                       10910 non-null  object \n",
      " 2   state                          10910 non-null  object \n",
      " 3   customer_lifetime_value        10910 non-null  float64\n",
      " 4   response                       10910 non-null  object \n",
      " 5   coverage                       10910 non-null  object \n",
      " 6   education                      10910 non-null  object \n",
      " 7   effective_to_date              10910 non-null  object \n",
      " 8   employmentstatus               10910 non-null  object \n",
      " 9   gender                         10910 non-null  object \n",
      " 10  income                         10910 non-null  int64  \n",
      " 11  location_code                  10910 non-null  object \n",
      " 12  marital_status                 10910 non-null  object \n",
      " 13  monthly_premium_auto           10910 non-null  int64  \n",
      " 14  months_since_last_claim        10910 non-null  float64\n",
      " 15  months_since_policy_inception  10910 non-null  int64  \n",
      " 16  number_of_open_complaints      10910 non-null  float64\n",
      " 17  number_of_policies             10910 non-null  int64  \n",
      " 18  policy_type                    10910 non-null  object \n",
      " 19  policy                         10910 non-null  object \n",
      " 20  renew_offer_type               10910 non-null  object \n",
      " 21  sales_channel                  10910 non-null  object \n",
      " 22  total_claim_amount             10910 non-null  float64\n",
      " 23  vehicle_class                  10910 non-null  object \n",
      " 24  vehicle_size                   10910 non-null  object \n",
      " 25  vehicle_type                   10910 non-null  object \n",
      " 26  month                          10910 non-null  int64  \n",
      "dtypes: float64(4), int64(6), object(17)\n",
      "memory usage: 2.2+ MB\n"
     ]
    }
   ],
   "source": [
    "df_m.info()"
   ]
  },
  {
   "cell_type": "code",
   "execution_count": 27,
   "id": "78ba3e30",
   "metadata": {},
   "outputs": [
    {
     "data": {
      "text/plain": [
       "(10910, 27)"
      ]
     },
     "execution_count": 27,
     "metadata": {},
     "output_type": "execute_result"
    }
   ],
   "source": [
    "df_m.shape"
   ]
  },
  {
   "cell_type": "code",
   "execution_count": 29,
   "id": "f64396c8",
   "metadata": {
    "scrolled": true
   },
   "outputs": [
    {
     "data": {
      "text/html": [
       "<div>\n",
       "<style scoped>\n",
       "    .dataframe tbody tr th:only-of-type {\n",
       "        vertical-align: middle;\n",
       "    }\n",
       "\n",
       "    .dataframe tbody tr th {\n",
       "        vertical-align: top;\n",
       "    }\n",
       "\n",
       "    .dataframe thead th {\n",
       "        text-align: right;\n",
       "    }\n",
       "</style>\n",
       "<table border=\"1\" class=\"dataframe\">\n",
       "  <thead>\n",
       "    <tr style=\"text-align: right;\">\n",
       "      <th></th>\n",
       "      <th>customer</th>\n",
       "      <th>state</th>\n",
       "      <th>response</th>\n",
       "      <th>coverage</th>\n",
       "      <th>education</th>\n",
       "      <th>effective_to_date</th>\n",
       "      <th>employmentstatus</th>\n",
       "      <th>gender</th>\n",
       "      <th>location_code</th>\n",
       "      <th>marital_status</th>\n",
       "      <th>policy_type</th>\n",
       "      <th>policy</th>\n",
       "      <th>renew_offer_type</th>\n",
       "      <th>sales_channel</th>\n",
       "      <th>vehicle_class</th>\n",
       "      <th>vehicle_size</th>\n",
       "      <th>vehicle_type</th>\n",
       "    </tr>\n",
       "  </thead>\n",
       "  <tbody>\n",
       "    <tr>\n",
       "      <th>count</th>\n",
       "      <td>10910</td>\n",
       "      <td>10910</td>\n",
       "      <td>10910</td>\n",
       "      <td>10910</td>\n",
       "      <td>10910</td>\n",
       "      <td>10910</td>\n",
       "      <td>10910</td>\n",
       "      <td>10910</td>\n",
       "      <td>10910</td>\n",
       "      <td>10910</td>\n",
       "      <td>10910</td>\n",
       "      <td>10910</td>\n",
       "      <td>10910</td>\n",
       "      <td>10910</td>\n",
       "      <td>10910</td>\n",
       "      <td>10910</td>\n",
       "      <td>10910</td>\n",
       "    </tr>\n",
       "    <tr>\n",
       "      <th>unique</th>\n",
       "      <td>9134</td>\n",
       "      <td>5</td>\n",
       "      <td>2</td>\n",
       "      <td>3</td>\n",
       "      <td>5</td>\n",
       "      <td>59</td>\n",
       "      <td>5</td>\n",
       "      <td>2</td>\n",
       "      <td>3</td>\n",
       "      <td>3</td>\n",
       "      <td>3</td>\n",
       "      <td>9</td>\n",
       "      <td>4</td>\n",
       "      <td>4</td>\n",
       "      <td>6</td>\n",
       "      <td>3</td>\n",
       "      <td>1</td>\n",
       "    </tr>\n",
       "    <tr>\n",
       "      <th>top</th>\n",
       "      <td>ID89933</td>\n",
       "      <td>California</td>\n",
       "      <td>No</td>\n",
       "      <td>Basic</td>\n",
       "      <td>Bachelor</td>\n",
       "      <td>2011-01-10</td>\n",
       "      <td>Employed</td>\n",
       "      <td>F</td>\n",
       "      <td>Suburban</td>\n",
       "      <td>Married</td>\n",
       "      <td>Personal Auto</td>\n",
       "      <td>Personal L3</td>\n",
       "      <td>Offer1</td>\n",
       "      <td>Agent</td>\n",
       "      <td>Four-Door Car</td>\n",
       "      <td>Medsize</td>\n",
       "      <td>A</td>\n",
       "    </tr>\n",
       "    <tr>\n",
       "      <th>freq</th>\n",
       "      <td>7</td>\n",
       "      <td>4183</td>\n",
       "      <td>9444</td>\n",
       "      <td>6660</td>\n",
       "      <td>3272</td>\n",
       "      <td>239</td>\n",
       "      <td>6789</td>\n",
       "      <td>5573</td>\n",
       "      <td>6902</td>\n",
       "      <td>6319</td>\n",
       "      <td>8128</td>\n",
       "      <td>4118</td>\n",
       "      <td>4483</td>\n",
       "      <td>4121</td>\n",
       "      <td>5834</td>\n",
       "      <td>7873</td>\n",
       "      <td>10910</td>\n",
       "    </tr>\n",
       "  </tbody>\n",
       "</table>\n",
       "</div>"
      ],
      "text/plain": [
       "       customer       state response coverage education effective_to_date  \\\n",
       "count     10910       10910    10910    10910     10910             10910   \n",
       "unique     9134           5        2        3         5                59   \n",
       "top     ID89933  California       No    Basic  Bachelor        2011-01-10   \n",
       "freq          7        4183     9444     6660      3272               239   \n",
       "\n",
       "       employmentstatus gender location_code marital_status    policy_type  \\\n",
       "count             10910  10910         10910          10910          10910   \n",
       "unique                5      2             3              3              3   \n",
       "top            Employed      F      Suburban        Married  Personal Auto   \n",
       "freq               6789   5573          6902           6319           8128   \n",
       "\n",
       "             policy renew_offer_type sales_channel  vehicle_class  \\\n",
       "count         10910            10910         10910          10910   \n",
       "unique            9                4             4              6   \n",
       "top     Personal L3           Offer1         Agent  Four-Door Car   \n",
       "freq           4118             4483          4121           5834   \n",
       "\n",
       "       vehicle_size vehicle_type  \n",
       "count         10910        10910  \n",
       "unique            3            1  \n",
       "top         Medsize            A  \n",
       "freq           7873        10910  "
      ]
     },
     "execution_count": 29,
     "metadata": {},
     "output_type": "execute_result"
    }
   ],
   "source": [
    "df_m.describe(include=\"object\")"
   ]
  },
  {
   "cell_type": "code",
   "execution_count": 31,
   "id": "5b624929",
   "metadata": {},
   "outputs": [
    {
     "data": {
      "text/plain": [
       "array([0.        , 0.38425611, 3.        , 1.        , 2.        ,\n",
       "       4.        , 5.        ])"
      ]
     },
     "execution_count": 31,
     "metadata": {},
     "output_type": "execute_result"
    }
   ],
   "source": [
    "df_m[\"number_of_open_complaints\"].unique()"
   ]
  },
  {
   "cell_type": "code",
   "execution_count": 32,
   "id": "7a57fec9",
   "metadata": {},
   "outputs": [],
   "source": [
    "df_m[\"number_of_open_complaints\"] = df_m[\"number_of_open_complaints\"].apply(lambda x : int(x))"
   ]
  },
  {
   "cell_type": "code",
   "execution_count": 33,
   "id": "45e5a357",
   "metadata": {},
   "outputs": [
    {
     "data": {
      "text/plain": [
       "array([0, 3, 1, 2, 4, 5])"
      ]
     },
     "execution_count": 33,
     "metadata": {},
     "output_type": "execute_result"
    }
   ],
   "source": [
    "df_m[\"number_of_open_complaints\"].unique()"
   ]
  },
  {
   "cell_type": "code",
   "execution_count": 37,
   "id": "4ade735e",
   "metadata": {},
   "outputs": [
    {
     "data": {
      "text/plain": [
       "0"
      ]
     },
     "execution_count": 37,
     "metadata": {},
     "output_type": "execute_result"
    }
   ],
   "source": [
    "df_m.duplicated().sum()"
   ]
  },
  {
   "cell_type": "code",
   "execution_count": 38,
   "id": "412b76d8",
   "metadata": {},
   "outputs": [
    {
     "data": {
      "text/plain": [
       "unnamed:_0                       0\n",
       "customer                         0\n",
       "state                            0\n",
       "customer_lifetime_value          0\n",
       "response                         0\n",
       "coverage                         0\n",
       "education                        0\n",
       "effective_to_date                0\n",
       "employmentstatus                 0\n",
       "gender                           0\n",
       "income                           0\n",
       "location_code                    0\n",
       "marital_status                   0\n",
       "monthly_premium_auto             0\n",
       "months_since_last_claim          0\n",
       "months_since_policy_inception    0\n",
       "number_of_open_complaints        0\n",
       "number_of_policies               0\n",
       "policy_type                      0\n",
       "policy                           0\n",
       "renew_offer_type                 0\n",
       "sales_channel                    0\n",
       "total_claim_amount               0\n",
       "vehicle_class                    0\n",
       "vehicle_size                     0\n",
       "vehicle_type                     0\n",
       "month                            0\n",
       "dtype: int64"
      ]
     },
     "execution_count": 38,
     "metadata": {},
     "output_type": "execute_result"
    }
   ],
   "source": [
    "df_m.isnull().sum()"
   ]
  },
  {
   "cell_type": "code",
   "execution_count": 34,
   "id": "c6d89e2a",
   "metadata": {
    "scrolled": true
   },
   "outputs": [
    {
     "data": {
      "text/plain": [
       "array(['Agent', 'Call Center', 'Branch', 'Web'], dtype=object)"
      ]
     },
     "execution_count": 34,
     "metadata": {},
     "output_type": "execute_result"
    }
   ],
   "source": [
    "df_m[\"sales_channel\"].unique() "
   ]
  },
  {
   "cell_type": "markdown",
   "id": "df35fd0d-513e-4e77-867e-429da10a9cc7",
   "metadata": {
    "id": "df35fd0d-513e-4e77-867e-429da10a9cc7"
   },
   "source": [
    "1. You work at the marketing department and you want to know which sales channel brought the most sales in terms of total revenue. Using pivot, create a summary table showing the total revenue for each sales channel (branch, call center, web, and mail).\n",
    "Round the total revenue to 2 decimal points.  Analyze the resulting table to draw insights."
   ]
  },
  {
   "cell_type": "code",
   "execution_count": 44,
   "id": "3eec6224",
   "metadata": {},
   "outputs": [],
   "source": [
    "pivot_df_channel = round(df_m.pivot_table(index=\"sales_channel\", values=['customer_lifetime_value'], aggfunc='sum'),2)"
   ]
  },
  {
   "cell_type": "code",
   "execution_count": 46,
   "id": "a5f5c6c2",
   "metadata": {
    "scrolled": true
   },
   "outputs": [
    {
     "data": {
      "text/html": [
       "<div>\n",
       "<style scoped>\n",
       "    .dataframe tbody tr th:only-of-type {\n",
       "        vertical-align: middle;\n",
       "    }\n",
       "\n",
       "    .dataframe tbody tr th {\n",
       "        vertical-align: top;\n",
       "    }\n",
       "\n",
       "    .dataframe thead th {\n",
       "        text-align: right;\n",
       "    }\n",
       "</style>\n",
       "<table border=\"1\" class=\"dataframe\">\n",
       "  <thead>\n",
       "    <tr style=\"text-align: right;\">\n",
       "      <th></th>\n",
       "      <th>customer_lifetime_value</th>\n",
       "    </tr>\n",
       "    <tr>\n",
       "      <th>sales_channel</th>\n",
       "      <th></th>\n",
       "    </tr>\n",
       "  </thead>\n",
       "  <tbody>\n",
       "    <tr>\n",
       "      <th>Agent</th>\n",
       "      <td>33057887.85</td>\n",
       "    </tr>\n",
       "    <tr>\n",
       "      <th>Branch</th>\n",
       "      <td>24359201.21</td>\n",
       "    </tr>\n",
       "    <tr>\n",
       "      <th>Call Center</th>\n",
       "      <td>17364288.37</td>\n",
       "    </tr>\n",
       "    <tr>\n",
       "      <th>Web</th>\n",
       "      <td>12697632.90</td>\n",
       "    </tr>\n",
       "  </tbody>\n",
       "</table>\n",
       "</div>"
      ],
      "text/plain": [
       "               customer_lifetime_value\n",
       "sales_channel                         \n",
       "Agent                      33057887.85\n",
       "Branch                     24359201.21\n",
       "Call Center                17364288.37\n",
       "Web                        12697632.90"
      ]
     },
     "execution_count": 46,
     "metadata": {},
     "output_type": "execute_result"
    }
   ],
   "source": [
    "pivot_df_channel"
   ]
  },
  {
   "cell_type": "markdown",
   "id": "640993b2-a291-436c-a34d-a551144f8196",
   "metadata": {
    "id": "640993b2-a291-436c-a34d-a551144f8196"
   },
   "source": [
    "2. Create a pivot table that shows the average customer lifetime value per gender and education level. Analyze the resulting table to draw insights."
   ]
  },
  {
   "cell_type": "code",
   "execution_count": 48,
   "id": "4645d93e",
   "metadata": {
    "scrolled": true
   },
   "outputs": [],
   "source": [
    "pivot_df_education = round(df_m.pivot_table(index=\"education\", columns = \"gender\", values=['customer_lifetime_value'], aggfunc='mean'),2)"
   ]
  },
  {
   "cell_type": "code",
   "execution_count": 49,
   "id": "ff0d71a4",
   "metadata": {},
   "outputs": [
    {
     "data": {
      "text/html": [
       "<div>\n",
       "<style scoped>\n",
       "    .dataframe tbody tr th:only-of-type {\n",
       "        vertical-align: middle;\n",
       "    }\n",
       "\n",
       "    .dataframe tbody tr th {\n",
       "        vertical-align: top;\n",
       "    }\n",
       "\n",
       "    .dataframe thead tr th {\n",
       "        text-align: left;\n",
       "    }\n",
       "\n",
       "    .dataframe thead tr:last-of-type th {\n",
       "        text-align: right;\n",
       "    }\n",
       "</style>\n",
       "<table border=\"1\" class=\"dataframe\">\n",
       "  <thead>\n",
       "    <tr>\n",
       "      <th></th>\n",
       "      <th colspan=\"2\" halign=\"left\">customer_lifetime_value</th>\n",
       "    </tr>\n",
       "    <tr>\n",
       "      <th>gender</th>\n",
       "      <th>F</th>\n",
       "      <th>M</th>\n",
       "    </tr>\n",
       "    <tr>\n",
       "      <th>education</th>\n",
       "      <th></th>\n",
       "      <th></th>\n",
       "    </tr>\n",
       "  </thead>\n",
       "  <tbody>\n",
       "    <tr>\n",
       "      <th>Bachelor</th>\n",
       "      <td>7874.27</td>\n",
       "      <td>7703.60</td>\n",
       "    </tr>\n",
       "    <tr>\n",
       "      <th>College</th>\n",
       "      <td>7748.82</td>\n",
       "      <td>8052.46</td>\n",
       "    </tr>\n",
       "    <tr>\n",
       "      <th>Doctor</th>\n",
       "      <td>7328.51</td>\n",
       "      <td>7415.33</td>\n",
       "    </tr>\n",
       "    <tr>\n",
       "      <th>High School or Below</th>\n",
       "      <td>8675.22</td>\n",
       "      <td>8149.69</td>\n",
       "    </tr>\n",
       "    <tr>\n",
       "      <th>Master</th>\n",
       "      <td>8157.05</td>\n",
       "      <td>8168.83</td>\n",
       "    </tr>\n",
       "  </tbody>\n",
       "</table>\n",
       "</div>"
      ],
      "text/plain": [
       "                     customer_lifetime_value         \n",
       "gender                                     F        M\n",
       "education                                            \n",
       "Bachelor                             7874.27  7703.60\n",
       "College                              7748.82  8052.46\n",
       "Doctor                               7328.51  7415.33\n",
       "High School or Below                 8675.22  8149.69\n",
       "Master                               8157.05  8168.83"
      ]
     },
     "execution_count": 49,
     "metadata": {},
     "output_type": "execute_result"
    }
   ],
   "source": [
    "pivot_df_education"
   ]
  },
  {
   "cell_type": "markdown",
   "id": "32c7f2e5-3d90-43e5-be33-9781b6069198",
   "metadata": {
    "id": "32c7f2e5-3d90-43e5-be33-9781b6069198"
   },
   "source": [
    "## Bonus\n",
    "\n",
    "You work at the customer service department and you want to know which months had the highest number of complaints by policy type category. Create a summary table showing the number of complaints by policy type and month.\n",
    "Show it in a long format table."
   ]
  },
  {
   "cell_type": "markdown",
   "id": "e3d09a8f-953c-448a-a5f8-2e5a8cca7291",
   "metadata": {
    "id": "e3d09a8f-953c-448a-a5f8-2e5a8cca7291"
   },
   "source": [
    "*In data analysis, a long format table is a way of structuring data in which each observation or measurement is stored in a separate row of the table. The key characteristic of a long format table is that each column represents a single variable, and each row represents a single observation of that variable.*\n",
    "\n",
    "*More information about long and wide format tables here: https://www.statology.org/long-vs-wide-data/*"
   ]
  },
  {
   "cell_type": "code",
   "execution_count": null,
   "id": "3a069e0b-b400-470e-904d-d17582191be4",
   "metadata": {
    "id": "3a069e0b-b400-470e-904d-d17582191be4"
   },
   "outputs": [],
   "source": [
    "# Your code goes here"
   ]
  }
 ],
 "metadata": {
  "colab": {
   "provenance": []
  },
  "kernelspec": {
   "display_name": "Python 3 (ipykernel)",
   "language": "python",
   "name": "python3"
  },
  "language_info": {
   "codemirror_mode": {
    "name": "ipython",
    "version": 3
   },
   "file_extension": ".py",
   "mimetype": "text/x-python",
   "name": "python",
   "nbconvert_exporter": "python",
   "pygments_lexer": "ipython3",
   "version": "3.11.7"
  }
 },
 "nbformat": 4,
 "nbformat_minor": 5
}
